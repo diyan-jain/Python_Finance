{
 "cells": [
  {
   "cell_type": "code",
   "execution_count": 2,
   "id": "812147b1",
   "metadata": {},
   "outputs": [
    {
     "name": "stdout",
     "output_type": "stream",
     "text": [
      "Functions and Class\n"
     ]
    }
   ],
   "source": [
    "print('Functions and Class')"
   ]
  },
  {
   "cell_type": "code",
   "execution_count": 3,
   "id": "29592541",
   "metadata": {},
   "outputs": [
    {
     "name": "stdout",
     "output_type": "stream",
     "text": [
      "TASK - 4\n"
     ]
    }
   ],
   "source": [
    "print('TASK - 4')"
   ]
  },
  {
   "cell_type": "code",
   "execution_count": 4,
   "id": "12cfe877",
   "metadata": {},
   "outputs": [
    {
     "name": "stdout",
     "output_type": "stream",
     "text": [
      "The total portfolio value is 1920 €.\n"
     ]
    }
   ],
   "source": [
    "class Portfolio:\n",
    "    def __init__(self):\n",
    "        self.assets = {}\n",
    "    \n",
    "    def add_asset(self, asset_name, quantity, unit_price):\n",
    "        if asset_name in self.assets:\n",
    "            self.assets[asset_name]['quantity'] += quantity\n",
    "            self.assets[asset_name]['unit_price'] = unit_price\n",
    "        else:\n",
    "            self.assets[asset_name] = {'quantity': quantity, 'unit_price': unit_price}\n",
    "        \n",
    "    def remove_asset(self, asset_name):\n",
    "        if asset_name in self.assets:\n",
    "            del self.assets[asset_name]\n",
    "        else:\n",
    "            print(f\"{asset_name} not found in portfolio\")\n",
    "            \n",
    "    def update_asset(self, asset_name, new_quantity, new_unit_price):\n",
    "        if asset_name in self.assets:\n",
    "            self.assets[asset_name]['quantity'] = new_quantity\n",
    "            self.assets[asset_name]['unit_price'] = new_unit_price\n",
    "        else:\n",
    "            print(f\"{asset_name} not found in portfolio\")\n",
    "            \n",
    "    def get_total_value(self):\n",
    "        total_value = 0\n",
    "        for asset, details in self.assets.items():\n",
    "            total_value += details['quantity'] * details['unit_price']\n",
    "            return total_value\n",
    "        \n",
    "my_portfolio = Portfolio()\n",
    "\n",
    "# Adding financial assets\n",
    "my_portfolio.add_asset(\"AAPL\", 10, 150)\n",
    "my_portfolio.add_asset(\"GOOG\", 5, 1000)\n",
    "my_portfolio.add_asset(\"TSLA\", 8, 800)\n",
    "\n",
    "# Updating a financial asset\n",
    "my_portfolio.update_asset(\"AAPL\", 12, 160)\n",
    "\n",
    "# Removing a financial asset\n",
    "my_portfolio.remove_asset(\"GOOG\")\n",
    "\n",
    "# Calculating the total value of the portfolio\n",
    "total_value = my_portfolio.get_total_value()\n",
    "print(f\"The total portfolio value is {total_value} €.\")"
   ]
  }
 ],
 "metadata": {
  "kernelspec": {
   "display_name": "base",
   "language": "python",
   "name": "python3"
  },
  "language_info": {
   "codemirror_mode": {
    "name": "ipython",
    "version": 3
   },
   "file_extension": ".py",
   "mimetype": "text/x-python",
   "name": "python",
   "nbconvert_exporter": "python",
   "pygments_lexer": "ipython3",
   "version": "3.12.7"
  }
 },
 "nbformat": 4,
 "nbformat_minor": 5
}
