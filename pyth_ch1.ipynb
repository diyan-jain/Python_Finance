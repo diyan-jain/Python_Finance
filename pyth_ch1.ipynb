{
 "cells": [
  {
   "cell_type": "code",
   "execution_count": 1,
   "id": "46029f65",
   "metadata": {},
   "outputs": [
    {
     "name": "stdout",
     "output_type": "stream",
     "text": [
      "variable, types and operations\n"
     ]
    }
   ],
   "source": [
    "print ('variable, types and operations')"
   ]
  },
  {
   "cell_type": "code",
   "execution_count": 2,
   "id": "ec3fcb52",
   "metadata": {},
   "outputs": [
    {
     "name": "stdout",
     "output_type": "stream",
     "text": [
      "TASK - 1\n"
     ]
    }
   ],
   "source": [
    "print ('TASK - 1')"
   ]
  },
  {
   "cell_type": "code",
   "execution_count": 14,
   "id": "42fb56f8",
   "metadata": {},
   "outputs": [
    {
     "name": "stdout",
     "output_type": "stream",
     "text": [
      "1690\n",
      "$ 2970\n",
      "88.33333333333333\n",
      "2650.0\n",
      "1280.0\n",
      "512.0\n",
      "384.0\n"
     ]
    }
   ],
   "source": [
    "Purchase_1 = 20\n",
    "Purchase_2 = 10\n",
    "Sell_1 = -8\n",
    "Price_1 = 60\n",
    "Price_2 = 145\n",
    "Price_3 = 120\n",
    "Current_Price = 135 \n",
    "Total_Value_of_Portfolio = (Purchase_1 * Price_1) + (Purchase_2 * Price_2) + (Sell_1 * Price_3)\n",
    "Total_Value_of_Portfolio_Current = (Purchase_1 + Purchase_2 + Sell_1) * Current_Price\n",
    "print (Total_Value_of_Portfolio)\n",
    "print ('$',Total_Value_of_Portfolio_Current)\n",
    "\n",
    "AVG_PURCHASE_PRICE = (Price_1 * Purchase_1 + Price_2 * Purchase_2)/(Purchase_1 + Purchase_2)\n",
    "print (AVG_PURCHASE_PRICE)\n",
    "Total_Investment = AVG_PURCHASE_PRICE * (Purchase_1 + Purchase_2)\n",
    "print (Total_Investment)\n",
    "\n",
    "Potential_Gain = Total_Value_of_Portfolio_Current - Total_Investment - Sell_1 * Price_3\n",
    "print (Potential_Gain)\n",
    "\n",
    "TAX_RATE_FRANCE = 0.3\n",
    "TAX_RATE_BELGIUM = 0.4 \n",
    "if TAX_RATE_BELGIUM * Potential_Gain > 500 : \n",
    "    print (TAX_RATE_BELGIUM * Potential_Gain)\n",
    "else : print(500)\n",
    "\n",
    "print (TAX_RATE_FRANCE * Potential_Gain)\n",
    "    "
   ]
  }
 ],
 "metadata": {
  "kernelspec": {
   "display_name": "base",
   "language": "python",
   "name": "python3"
  },
  "language_info": {
   "codemirror_mode": {
    "name": "ipython",
    "version": 3
   },
   "file_extension": ".py",
   "mimetype": "text/x-python",
   "name": "python",
   "nbconvert_exporter": "python",
   "pygments_lexer": "ipython3",
   "version": "3.12.7"
  }
 },
 "nbformat": 4,
 "nbformat_minor": 5
}
